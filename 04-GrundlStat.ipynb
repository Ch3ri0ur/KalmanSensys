{
 "cells": [
  {
   "cell_type": "markdown",
   "metadata": {},
   "source": [
    "# Grundlagen der Wahrscheinlichkeitsrechnung\n",
    "25.2.2019, S. Mack"
   ]
  },
  {
   "cell_type": "code",
   "execution_count": 2,
   "metadata": {},
   "outputs": [],
   "source": [
    "# display plots inside this notebook\n",
    "%matplotlib inline \n",
    "import matplotlib.pyplot as plt\n",
    "import numpy as np"
   ]
  },
  {
   "cell_type": "markdown",
   "metadata": {},
   "source": [
    "## Einleitung\n",
    "\n",
    "Im voran gegangenem Notebook zum Bayes-Filter wurden Nachteile dieses Filters angesprochen: Der Bayes-Filter sieht die Welt *multimodal* und *diskret*. D.h. die Umwelt hat für ihn diskrete Zustände, für die er nach jeder Iteration, also nach jedem Zeitschritt, eine neue Auftrittswahrscheinlichkeit berechnet. Dabei kann es passieren, dass mehrere Zustände eine gleiche Wahrscheinlichkeit aufweisen.     \n",
    "Beim Beispiel des Roboterfahrzeugs im Flur gab es nur zehn Zustände - die den zehn möglichen Positionen des Fahrzeugs vor einer der zehn Türen. Der Output des Bayes-Filters war eine Wahrscheinlichkeitsverteilung des Aufenthalts, die als Histogramm dargestellt wurde. Bei großen Messunsicherheiten konnte es vorkommen, dass dieses Histogramm zwei getrennte Häufungspunkte aufwies, das Fahrzeug also zu gleichen Wahrscheinlichkeiten an zwei verschiedenen Orten vermutet wurde.  \n",
    "\n",
    "In der Technik liegen aber oft andere Anforderungen vor: Man möchte beispielsweise die xy-Position eines Roboterfahrzeugs in der Ebene bestimmen. Dabei ist sowohl die x- als auch die y-Koordinate ein kontinuierlicher Wert, der durch eine Fließkommazahl repräsentiert wird. Der gewünschte Filter soll dann die wahrscheinlichste xy-Postion zusammen mit entsprechenden Vertrauensintervallen ausgeben.  \n",
    "**Beispiel:** \"*Das Fahrzeug befindet sich an der Position x = 10,003 m, y = 2,223 m mit einer Unsicherheit (eine Standardabweichung) von jeweils $\\pm$ 15 mm.*\"\n",
    "\n",
    ">Gewünscht ist also vielmehr ein *unimodaler* und *kontinuierlicher* Filteroutput. Dafür eignet sich die Gaußsche Wahrscheinlichkeitsrechnung viel besser als die Bayessche, zumal das Rechnen mit Gaußfunktionen auch effizienter ist."
   ]
  },
  {
   "cell_type": "markdown",
   "metadata": {},
   "source": [
    "## Kenngrößen der Wahrscheinlichkeitsrechnung\n",
    "\n",
    "Im folgenden Notebook zum Kalman-Filter wird Vieles aus der Gaußschen Statistik verwendet. Daher werden nachfolgend die Begrifflichkeiten hierfür eingeführt und die grundlegenden Sachverhalte dazu erklärt.  \n",
    "Ein Verständnis der Statistik scheitert leider oft an der verwendeten Notation, die von Lehrbuch zu Lehrbuch oder Internetquelle zu Internetquelle unterschiedlich ist. *In diesem Notebook wird die gleiche Notation wie auf den deutschen Wikipediaseiten verwendet.*\n",
    "\n",
    "### Zufallsgrößen\n",
    "\n",
    "Das prominenteste Beispiel für eine Zufallsgröße sind die Augen eines Würfels. Wenn man unendlich oft würfelt, dann wird  jede Augenzahl mit einer Häufigkeit von 1/6 auftreten. Hierzu sagt man, \"die Wahrscheinlichkeit einer bestimmten Augenzahl beträgt 1/6\".  \n",
    "Die **Zufallsgröße** ist in diesem Beispiel die Augenzahl. Man nennt sie so, weil deren Wert vom Zufall abhängig ist.  \n",
    "Die sogenannten **Funktionswerte** der Zufallsgröße \"Augenzahl\" lauten 1, 2, 3, 4, 5 und 6. Hier handelt es sich um diskrete Werte, die die Zufallsgröße annehmen kann.  \n",
    "\n",
    "Andere Zufallsgrößen wie die Größe eines Menschen sind hingegen wertkontinuierlich. Die Funktionswerte bilden einen **Ergebnisraum**, der entweder wie bei den Würfelaugen abzählbare Elemente beinhaltet \\[1,2,3,4,5,6\\] oder wie bei einer x-Position ein Zahlenintervall ist wie z.B. \\[0.000, 20.000\\] m.  \n",
    "\n",
    "Zufallsgrößen werden durch Großbuchstaben aus dem hinteren Teil des Alphabets bezeichnet, meistens mit $X$, $Y$ oder $Z$.  \n",
    "Mit den entsprechenden Kleinbuchstaben also z.B. $x$ werden die Ergebnisse einer **Stichprobe** bezeichnet. $x=(1,1,2,6,6)$ bedeutet beispielsweise, es wurde je zweimal eine Eins und eine Sechs und einmal eine Zwei gewürfelt. Hier besteht die Stichprobe also aus den Messwerten der Zufallsgröße \"Augenzahl\". Wobei \"Messen\" in diesem Fall \"Würfeln\" bedeutet.\n",
    "\n",
    "Die verschiedenen Funktionswerte von $X$ werden mit $x_i$ bezeichnet. Im Fall es Würfels gilt $x_i \\in [1,2,3,4,5,6]$."
   ]
  },
  {
   "cell_type": "markdown",
   "metadata": {},
   "source": [
    "### Wahrscheinlichkeitsverteilung\n",
    "\n",
    "\n",
    "Die **Wahrscheinlichkeitsverteilung** gibt an, mit welcher Wahrscheinlichkeit der jeweilige Funktionswert auftrittt. Bei diskreten Verteilungen wie die Würfelaugen, wird die Wahrscheinlichkeitsverteilung als Tabelle angegeben:\n",
    "\n",
    "|Wert (Anzahl Augen)|Wahrscheinlichkeit|\n",
    "|-----|-----------|\n",
    "|1|1/6|\n",
    "|2|1/6|\n",
    "|3|1/6|\n",
    "|4|1/6|\n",
    "|5|1/6|\n",
    "|6|1/6|\n",
    "\n",
    "Bei kontinuierlichen Verteilungen wird die Wahrscheinlichkeit als xy-Grafik angegeben.  \n",
    "Die Wahrscheinlichkeitsverteilung kann als Funktion angesehen werden. Sie wird duch den Buchstaben $P$ (engl. Probability) oder $f()$ repräsentiert. Für das Beispiel eine Würfelereignisses von vier Augen $x_4 = 4$ ergibt sich folgende Notation:\n",
    "\n",
    "$$P(X{=}4) = f(4) = \\frac{1}{6}$$\n",
    "\n",
    "Die Gleichung oben drückt aus, dass die Wahrscheinlichkeit, eine Vier zu würfeln, den Wert 1/6 besitzt.  \n",
    "\n",
    "Bei einem Münzenwurf besteht der Ergebnisraum aus den beiden Ereignissen Kopf und Zahl \\[K, Z\\]. Die Wahrscheinlichkeitsverteilung für diese beiden Zustände ist 50/50, also jeweils 1/2.  \n",
    "Die mathematische Schreibweise dieses Sachverhalts lautet:  \n",
    "\n",
    "$$\\begin{gathered}P(X{=}K) = 0.5\\\\P(X{=}Z)=0.5\\end{gathered}$$\n",
    "\n",
    "Diskrete Zufallsgrößen besitzen diskrete Zufallsverteilungen, kontinuierliche Zufallsgrößen besitzen folglich kontinuierliche Zufallsverteilungen.  \n",
    "\n",
    "Die Wahrscheinlichkeit für jedes Ereignis muss immer größer Null sein. Die Summe der Wahrscheinlichkeiten für alle Elemente des Ergebnisraums muss immer gleich Eins sein. Denn irgendeinen Wert muss die Zufallsgröße ja haben.\n",
    "\n",
    "Es gilt also für diskrete Wahrscheinlichkeitsverteilungen mit N verschiedenen Funktionswerten\n",
    "\n",
    "$$\\sum\\limits_{i=1}^N P(X{=}x_i)= 1$$\n",
    "\n",
    "Für kontinuierliche Wahrscheinlichkeitsverteilungen mit einem kontinuierlichen Bereich von Funktionswerten wird die Summe durch ein Integral ersetzt:\n",
    "\n",
    "$$\\int_{-\\infty}^\\infty P(X{=}x) \\,dx=\\int_{-\\infty}^\\infty f(x) \\,dx = 1$$"
   ]
  },
  {
   "cell_type": "markdown",
   "metadata": {},
   "source": [
    "### Mittelwert und Median\n",
    "\n",
    "Die bei einer Messung einer Zufallsgröße sich ergebenen Werte werden wie erwähnt als Stichprobe bezeichnet. Anders als beim Würfeln würde man bei der Zufallsgröße \"Körpergröße\" selbige tatsächlich mit einem Zollstock messen. Die Stichprobe hier bilden die Körpergrößen z.B. alle Studierenden einer Lehrveranstaltung.  \n",
    "\n",
    "Möchte man die durchschnittliche Körpergröße aller Studierenden einer Lehrveranstalgung wissen, so berechnet man aus dieser Stichprobe den *Mittelwert*. Genauer gesagt den *arithmetrischen Mittelwert*, denn es gibt auch noch andere Mittelwertdefinitionen wie den \"quadratischen\" oder \"geometrischen\". Spricht man nur von \"Mittelwert\" dann ist jedoch immer der arithmetrische Mittelwert gemeint.  \n",
    "\n",
    "Beispielsweise kann diese Stichprobe aus fünf Personen bestehen, deren gemessene Körpergrößen durch die Menge $X$ repräsentiert werden:   \n",
    "\n",
    "$$X = \\{1.8, 2.0, 1.7, 1.9, 1.6\\}$$\n",
    "\n",
    "Den *arithmetrischen* Mittelwert $\\bar x$ berechnet sich wie folgt:\n",
    "\n",
    "$$\\bar x = \\frac{1.8 + 2.0 + 1.7 + 1.9 + 1.6}{5} = 1.8$$\n",
    "\n",
    "Allgemein berechnet sich der Mittelwert einer Stichprobe zu\n",
    "\n",
    "$$ \\bar x = \\frac{1}{n}\\sum^n_{i=1} x_i$$\n",
    "\n",
    "Das Package ``NumPy`` enthält die Funktion ``numpy.mean()``, um den Mittelwert aus einer Stichprobe zu berechnen, die in Form einer Liste oder eines Arrays vorliegt."
   ]
  },
  {
   "cell_type": "code",
   "execution_count": 3,
   "metadata": {
    "scrolled": true
   },
   "outputs": [
    {
     "name": "stdout",
     "output_type": "stream",
     "text": [
      "1.8\n"
     ]
    }
   ],
   "source": [
    "x = [1.8, 2.0, 1.7, 1.9, 1.6]\n",
    "print(np.mean(x))"
   ]
  },
  {
   "cell_type": "markdown",
   "metadata": {},
   "source": [
    "Der *Modus* einer Stichprobe ist der Wert, welcher am häufigsten vorkommt. Wenn es nur einen Häufungspunkt in einer Verteilung gibt, dann nennt man diese *unimodal*. Gibt es mehrere Häufungspunkte, so spricht man von einer *multimodalen* Verteilung.  \n",
    "\n",
    "**Beispiel:** Die Stichprobe {1, 2, 2, 2, 3, 4, 4, 4} hat die Modi 2 und 4. Beide Zahlen treten sogar gelich häufig auf. Eine andere Stichprobe {1, 1, 2, 2, 2, 1, 3, 3, 4} ist hingegen unimodal: Die Zahl 2 tritt am häufigsten auf.\n",
    "\n",
    "Der *Median* $\\bar x_{med}$ wird in politischen Diskussionen leider oft mit dem Mittelwert $\\bar x$ verwechselt: Das Durchschnittseinkommen einer Bevölkerung kann z.B. sehr komfortabel sein. Trotzem kann die Mehrheit der Bevölkerung arm sein, wenn z.B. 5 % der Menschen über ein Einkommen wie Bill Gates verfügen.  \n",
    "Aussagekräftiger ist hier der Median: Er bzeichnet die Mitte der Verteilung, also das Einkommen, für das es genau so viele Menschen gibt die darüber wie darunter liegen.  \n",
    "\n",
    "Wenn eine Stichprobe aus einer geraden Anzahl von Werten besteht, dann berechnet man den Median als Mittelwert aus den in diesem Fall beiden mittleren Werten der Stichprobe.\n",
    "\n",
    "Das Package ``NumPy`` enthält die Funktion ``numpy.median()`` zur Berechnung des Medians. Im Fall der sutdentischen Körpergrößen {1.8, 2.0, 1.7, 1.9, 1.6} ist der Median 1.8, denn diese Körpergröße liegt genau in der Mitte, falls man die einzelnen Werte der Reihe nach ordnet."
   ]
  },
  {
   "cell_type": "code",
   "execution_count": 4,
   "metadata": {},
   "outputs": [
    {
     "name": "stdout",
     "output_type": "stream",
     "text": [
      "1.8\n"
     ]
    }
   ],
   "source": [
    "print(np.median(x))"
   ]
  },
  {
   "cell_type": "markdown",
   "metadata": {},
   "source": [
    "### Erwartungswert einer Zufallsgröße\n",
    "\n",
    "Der *Erwartungswert* darf nicht mit dem Mittelwert verwechselt werden. Dies passiert aber leider allzu häufig, zumal die Bezeichnung $\\mu$ oft sowohl für den Mittelwert als auch für den Erwartungswert verwendet wird.  \n",
    "Hier wird die Bezeichnung $E$ für die Funktion verwendet, die für eine Zufallsgröße $X$ den Erwartungswert berechnet. Das Ergebnis dieser Berechnung, also der Erwartungswert selbst wird mit $\\mu$ bezeichnet.    \n",
    "\n",
    "Der Mittelwert konvergiert gegen den Erwartungswert für eine unendlich große Stichprobe. Bei einer Messung einer verrauschten Messgröße ist dies anschaulich: Wenn man oft genug misst und die Messwerte mittelt, dann erhält man am Ende den \"wahren Wert\", also den \"erwarteten\" Wert für diese Messgröße.  \n",
    "\n",
    "Der Erwartungswert lässt sich über die Wahrscheinlichkeitsverteilung berechnen. Sei $x_i$ das i-te Element der Zufallsgröße  $X$ und $p_i$ dessen Auftrittswahrscheinlichkeit (also das i-te Element von $P(X)$), dann gilt für den Erwartungswert $E$:\n",
    "\n",
    "$$E[X] = \\sum_{i=1}^n p_ix_i$$\n",
    "\n",
    "Beim Würfel gilt $X = [1,2,3,4,5,6]$ und $P(X)=[1/6,1/6,1/6,1/6,1/6,1/6]$. Daraus folgt: $E[X] = 3,5$.\n",
    "\n",
    "Bei einer kontinuierlichen Wahrscheinlichkeitsverteilung $f(x)$ gilt entsprechend\n",
    "\n",
    "$$ E[X] = \\int_{-\\infty}^\\infty x\\, f(x) \\,dx$$\n",
    "\n",
    "> Nochmals zur Klarstellung: Der Begriff **Erwartungswert bezieht sich auf eine unendlich große Stichprobe**. Dann spricht man auch von einem **Erwartungswert einer Wahrscheinlichkeitsverteilung**.  \n",
    "Von einer Stichprobe im eigentlichen Sinn, also eine **endlich große Stichprobe kann man nur einen Mittelwert berechnen**. Dieser Mittelwert weicht in der Regel vom Erwartungswert ab."
   ]
  },
  {
   "cell_type": "markdown",
   "metadata": {},
   "source": [
    "### Varianz einer Zufallsgröße\n",
    "\n",
    "Der Mittelwert und der Median charakterisieren eine Zufallsverteilung natürlich nur annnähernd.  \n",
    "Angenommen es gibt drei verschiedene Lehrveranstaltungen mit je fünf Studierenden, deren Körpergrößen gemessen wurden. Dadurch erhält man drei unterschiedliche Stichprobem $x_a$, $x_b$ und $x_c$, für die im nachfolgenden Code jeweils der Mittelwert und der Median berechnet werden."
   ]
  },
  {
   "cell_type": "code",
   "execution_count": 5,
   "metadata": {},
   "outputs": [
    {
     "name": "stdout",
     "output_type": "stream",
     "text": [
      "Mittelwert: 1.8, Median: 1.8\n",
      "Mittelwert: 1.8, Median: 1.7\n",
      "Mittelwert: 1.8, Median: 1.8\n"
     ]
    }
   ],
   "source": [
    "x_a = [1.8, 2.0, 1.7, 1.9, 1.6]\n",
    "x_b = [2.2, 1.5, 2.3, 1.7, 1.3]\n",
    "x_c = [1.8, 1.8, 1.8, 1.8, 1.8]\n",
    "print('Mittelwert: {}, Median: {}'.format(np.mean(x_a),np.median(x_a)))\n",
    "print('Mittelwert: {}, Median: {}'.format(np.mean(x_b),np.median(x_b)))\n",
    "print('Mittelwert: {}, Median: {}'.format(np.mean(x_c),np.median(x_c)))"
   ]
  },
  {
   "cell_type": "markdown",
   "metadata": {},
   "source": [
    "Die Mittelwerte sind alle gleich und der Median unterscheidet sich nur gering.  \n",
    "Schaut man auf die Messdaten, dann fällt aber die Stichprobe $x_b$ auf: Hier gibt es besonders große und besonders kleine Studierende. Bei den anderen Stichproben streuen die Körpergrößen nicht so stark.  \n",
    "Die Streuung einer Zufallsgröße wird in der Statistik als *Varianz* $\\mathit{Var}$ bezeichnet. Sie ist der Erwartungswert der quadratischen Abweichung vom Erwartungswert der Zufallsgröße: \n",
    "$$\\mathit{Var}(X) = E[(X - \\mu)^2]$$\n",
    "Klingt kompliziert ist es aber nicht. Bei der Messung einer verrauschten Messgröße wäre dies die quadratische Abweichung vom wahren Wert. Die *qauadratische* und nicht die normale Abweichung muss man verwenden, da letztere meistens Null ist. Denn statistische Messabweichungen sind meistens symmetrisch um den wahren Wert.  \n",
    "\n",
    "Bei einer endlich großen Stichprobe wie die Körpergrößen hier kann man auch eine \"Varianz\" berechnen, wobei hier statt des Erwartungswerts der Mittelwert verwendet wird:\n",
    "$$\\mathit{Var}(x) = \\frac{1}{n}\\sum_{i=1}^n (x_i - \\bar x)^2$$\n",
    " \n",
    "> Die Varianz einer Stichprobe und die Varianz einer Wahrscheinlichkeitsverteilung sind also zwei verschiedene Dinge. Nur falls die Stichprobe unendlich groß wird, haben beide Größen den selben Wert.\n",
    "\n",
    "Der Anschaulichkeit halber wird nachfolgend die Varianz der Stichprobe $x_a$ explizit berechnet:\n",
    "\n",
    "Der Mittelwert von $x_a$ beträgt 1.8 ($\\bar x_a = 1.8$), also gilt\n",
    "\n",
    "$$ \n",
    "\\begin{aligned}\n",
    "\\mathit{Var}(x_a) &=\\frac{(1.8-1.8)^2 + (2-1.8)^2 + (1.7-1.8)^2 + (1.9-1.8)^2 + (1.6-1.8)^2} {5} \\\\\n",
    "&= \\frac{0 + 0.04 + 0.01 + 0.01 + 0.04}{5} \\\\\n",
    "\\mathit{Var}(x_a) &= 0.02 \\, m^2\n",
    "\\end{aligned}$$\n",
    "\n",
    "Einfacher geht die Berechnung mit der ``NumPy``-Funktion ``numpy.var()``:"
   ]
  },
  {
   "cell_type": "code",
   "execution_count": 6,
   "metadata": {},
   "outputs": [
    {
     "name": "stdout",
     "output_type": "stream",
     "text": [
      "Varianz x_a: 0.020 m²\n",
      "Varianz x_b: 0.152 m²\n",
      "Varianz x_c: 0.000 m²\n"
     ]
    }
   ],
   "source": [
    "print('Varianz x_a: {:.3f} m²'.format(np.var(x_a)))\n",
    "print('Varianz x_b: {:.3f} m²'.format(np.var(x_b)))\n",
    "print('Varianz x_c: {:.3f} m²'.format(np.var(x_c)))"
   ]
  },
  {
   "cell_type": "markdown",
   "metadata": {},
   "source": [
    "### Die Standardabweichung einer Zufallsgröße\n",
    "Die Varianzen der Stichproben aus Körpergrößen haben die Einheit m², was nicht verwunderlich ist, denn darin steckt ja die *quadratische* Abweichung vom Erwartungswert. Will man daraus eine Größe für die Streubreite einer Verteilung berechnen, so muss noch die Wurzel aus der Varianz gezogen werden. Damit erhält man dann die sogenannte Standardabweichung $\\sigma$: \n",
    "\n",
    "$$\\sigma = \\sqrt{\\mathit{Var}(X)} = \\sqrt{E[(X - \\mu)^2]}$$\n",
    "\n",
    "Bei einer endlich großen Stichprobe wie die Körpergrößen hier kann man anlog die Standardabweichung berechnen zu: \n",
    "\n",
    "$$\\sigma = \\sqrt{\\mathit{Var}(X)}=\\sqrt{\\frac{1}{n}\\sum_{i=1}^n(x_i - \\bar x)^2}$$\n",
    "\n",
    "Streng genommen darf man das aber nur für $n > 200$, d.h. wenn im Vergleich zu üblichen Messabweichungen von einigen Prozent \"unendlich\" viele Messwerte vorliegen. Bei dem Beispiel mit den Körpergrößen von fünf Studierenden ist das natürlich nicht der Fall, und es müsste die sogenannte \"empirische Standardabweichung\" $\\sigma_{n-1}$ verwendet werden. Sie ist ein Schätzwert für die \"echte\" Standardabweichung. Dieser Umstand wird hier aber der Einfachheit halber ignoriert. Denn im Zusammenhang mit dem Kalman-Filter geht es nicht um die Standardabweichung von Stichproben sondern von Wahrscheinlichkeitsverteilungen.  \n",
    "\n",
    "Für die Varianz wird übrigens oft die Bezeichnung $\\sigma^2$ anstelle von $var(X)$ verwendet.\n",
    "\n",
    "Das Package ``NumPy method`` stellt mit ``numpy.std()`` eine Funktion zur Berechnung der Standardabweichung zur Verfügung."
   ]
  },
  {
   "cell_type": "markdown",
   "metadata": {},
   "source": [
    "### Vertrauensintervall und Vertrauensniveau\n",
    "Die Standardabweichung gibt wie die Varianz umgangssprachlich die \"Streubreite\" einer Verteilung an. Ist die Verteilung gaußförmig, dann kann über den Wert von $\\sigma$ für ein *Vertrauensintervall* ein entsprechendes *Vertrauenniveau* berechnet werden.  \n",
    "Beispielsweise entspricht einem Vertrauensintervall von $[\\mu -\\sigma, \\mu +\\sigma]$ einem Vertrauensnivau von 68 %.  \n",
    "Die bedeutet Folgendes: Werden viele Messungen durchgeführt, dann liegen 68 % der Messwerte innerhalb dieses Vertrauensintervalls. Die restlichen 32 % liegen außerhalb.  \n",
    "Beispielsweise liegen im Intervall $[\\mu -2\\sigma, \\mu +2\\sigma]$ 95 % und im Intervall $[\\mu -3\\sigma, \\mu +3\\sigma]$ 99,7 % aller Messwerte.  \n",
    "\n",
    "In folgendem Plot ist dies visualisiert:  \n",
    "Zuerst wird eine Stichprobe von 200 Körpergrößen erzeugt mit $\\mu = 1,80\\ m$ und $\\sigma = 0,1414\\ m$. Dies simuliert z.B. die Verteilung der Körpergrößen von 200 Studierenden in einer großen Grundlagenvorlesung.  \n",
    "Diese Stichprobe wird im ersten Plot als Folge von Messwerten und im zweiten Plot als Histogramm dargestellt."
   ]
  },
  {
   "cell_type": "code",
   "execution_count": 7,
   "metadata": {},
   "outputs": [
    {
     "data": {
      "text/plain": [
       "<matplotlib.legend.Legend at 0x803afd0>"
      ]
     },
     "execution_count": 7,
     "metadata": {},
     "output_type": "execute_result"
    },
    {
     "data": {
      "image/png": "[encoded data removed]",
      "text/plain": [
       "<Figure size 1008x288 with 2 Axes>"
      ]
     },
     "metadata": {},
     "output_type": "display_data"
    }
   ],
   "source": [
    "from numpy import random\n",
    "random.seed(10)\n",
    "\n",
    "m = 1.8 # expected Value\n",
    "s = 0.141 # standard deviation\n",
    "\n",
    "data = [m + s*random.randn() for i in range(200)] # generate sample of 200 students height values\n",
    "\n",
    "fig, ax = plt.subplots(1, 2, figsize=(14, 4))\n",
    "\n",
    "for i, height in enumerate(data):\n",
    "    ax[0].plot([i+1, i+1], [0, height], color='k', lw=1)\n",
    "ax[0].set_xlim(0,len(data)+1)\n",
    "ax[0].set_ylim(1.2,2.4)\n",
    "ax[0].fill_between((0, len(data)+1), m-2*s, m+2*s, facecolor='y', alpha=0.3, label = '$\\pm 2 \\sigma$')\n",
    "ax[0].fill_between((0, len(data)+1), m-s, m+s, facecolor='g', alpha=0.3, label = '$\\pm 1 \\sigma$')\n",
    "ax[0].grid()\n",
    "ax[0].legend()\n",
    "ax[0].set_xlabel('Studierender Nr.')\n",
    "ax[0].set_ylabel('Körpergröße (m)')\n",
    "\n",
    "ax[1].grid(zorder=0)\n",
    "ax[1].hist(data, histtype='bar', color='grey', rwidth=0.8, zorder=1)\n",
    "ax[1].set_ylim(0,50)\n",
    "ax[1].set_xlim(1.2,2.4)\n",
    "ax[1].set(xlabel='Körpergröße (m)', ylabel='Häufigkeit')\n",
    "ax[1].fill_between((m-s, m+s), 0, 50, facecolor='g', alpha=0.3, label = '$\\pm 1 \\sigma$')\n",
    "ax[1].fill_between((m-2*s, m+2*s), 0, 50, facecolor='y', alpha=0.3, label = '$\\pm 2 \\sigma$')\n",
    "ax[1].legend()"
   ]
  },
  {
   "cell_type": "markdown",
   "metadata": {},
   "source": [
    "Beide Plots zeigen die selbe Wahrscheinlichkeitsverteilung. Im linken Plot steht für jeden Studierenden eine vertikale Nadel, die dessen Körpergröße angibt. Im rechten Plot ist die Häufigkeitsverteilung der verschiedenen Körpergrößen dargestellt.  \n",
    "Der Erwartungswert beträgt 1,80 m. Der grün hinterlegte Bereich entspricht einem Vertrauensintervall von $\\pm 1 \\sigma$, der gelb hinterlegte Bereich einem Vertrauensintervall von $\\pm 2 \\sigma$.  \n",
    "Es ist gut sichtbar, dass im grünen Bereich ca. 68 % und im gelben Bereich ca. 95 % aller Werte liegen. Dies war auch so zu erwarten, denn die Stichprobe wurde ja mit der Funktion ``random.randn()`` als Gaußsche Normalverteilung generiert.  \n",
    "\n",
    "In den voran gegangenen Abschnitten ging es immer ganz allgemein um Wahrscheinlichkeitsrechnung. Dieser Abschnitt hier bezieht sich erstmalig nur auf eine spzielle Wahrscheinlichkeitsverteilung - die Gaußsche Normalverteilung. Sie wird auch \"Gaußverteilung\" oder \"Normalverteilung\" gennant."
   ]
  },
  {
   "cell_type": "markdown",
   "metadata": {},
   "source": [
    "## Die Gaußsche Normalverteilung\n",
    "\n",
    "Am Anfang dieses Notebooks wurde die Gaußverteilung schon als optimale Wahrscheinlichkeitsverteilung für einen unimodalen und kontinuierlichen Filter erwähnt.  \n",
    "Die folgenden Abschnitte stellen die Gaußverteilung vor, und zeigen wie man mit ihr rechnerisch umgeht. Dabei wird deutlich, dass wie angekündigt das Rechnen mit Gaußverteilungen wesentlich einfacher ist als mit anderen beliebigen Wahrscheinlichkeitsverteilungen. Dies ist unter Anderem der Grund, wieso ein gewisser Hr. Kalman, genau die Gaußverteilung für seinen Filter verwendete.  \n",
    "Die Gaußfunktion lautet:  \n",
    "\n",
    "$$ f(x, \\mu, \\sigma) = \\frac{1}{\\sigma\\sqrt{2\\pi}} \\exp\\big [{-\\frac{(x-\\mu)^2}{2\\sigma^2} }\\big ]$$\n",
    "\n",
    "Die Gaußfunktion kann mit dem ``SciPy``-Package generiert werden. Sie besitzt nur zwei Parameter: Der Erwartungswert $\\mu$ und die Varianz $\\sigma^2$. Nachfolgend wird ihr Verlauf für das Beispiel der studentischen Körpergrößen in einem Plot dargestellt."
   ]
  },
  {
   "cell_type": "code",
   "execution_count": 8,
   "metadata": {},
   "outputs": [
    {
     "data": {
      "image/png": "[encoded data removed]",
      "text/plain": [
       "<Figure size 432x288 with 1 Axes>"
      ]
     },
     "metadata": {},
     "output_type": "display_data"
    }
   ],
   "source": [
    "from scipy.stats import norm\n",
    "x = np.arange(1.2,2.4,0.01)\n",
    "mu = 1.8\n",
    "sigma = 0.1414\n",
    "pdf_gauss = norm.pdf(x,mu,sigma)\n",
    "\n",
    "fig, ax = plt.subplots()\n",
    "ax.plot(x,pdf_gauss)\n",
    "ax.set_xlabel('Körpergröße (m)')\n",
    "ax.set_ylabel('Wahrscheinlichkeitsdichte')\n",
    "ax.set_ylim(0,3)\n",
    "ax.grid()"
   ]
  },
  {
   "cell_type": "markdown",
   "metadata": {},
   "source": [
    "Die Gaußverteilung ist eine Wahrscheinlichkeitsverteilung für eine Zufallsgröße mit *kontinuierlichen* Werten. Genau genommen ist sie eine *Wahrscheinlichkeitsdichtefunktion* (engl. \"Probability Density Function\" abgekürzt pdf).  \n",
    "Auf der y-Achse ist daher auch nicht die Wahrscheinlichkeit sondern die Wahrscheinlichkeits*dichte* aufgetragen: Die Wahrscheinlichkeitsdichte für eine Körpergröße von genau 2,000000 m beträgt im Plot 1,0. Die Wahrscheinlichkeit, dass ein Studierender genau 2,000000 m groß ist, ist jedoch praktisch Null. Denn, dass jemand auf einen µm genau 2 m groß ist, kann als sehr unwahrscheinlich angesehen werden.  \n",
    "Es macht auch sicher keinen Sinn die Körpergröße auf ein µm genau messen zu wollen. Eine Messgenauigkeit von $\\pm$ 5 mm ist sicher wesentlich realitätsnäher. \n",
    "\n",
    "Daher sollte die Frage besser lauten:  \n",
    "*Wie hoch ist die Wahrscheinlichkeit einer Körpergröße zwischen 1,995 m und 2,005 m?*  \n",
    "Diese Frage lässt sich mit der Wahrscheinlichkeitsdichte rechnerisch beantworten. Die Wahrscheinlichkeit P beträgt  \n",
    "\n",
    "$$ P = f(2\\ m)\\cdot(2,005\\ m-1,995\\ m)$$.\n",
    "\n",
    "Hierbei ist $f(x)$ die Gaußsche Wahrscheinlichkeitsdichtefunktion - oder einfacher gesagt die Gaußfunktion - aus dem Plot oben. Für die Gaußfunktion gibt es im Package ``SciPy`` die Funktion ``norm.pdf()``:"
   ]
  },
  {
   "cell_type": "code",
   "execution_count": 9,
   "metadata": {},
   "outputs": [
    {
     "name": "stdout",
     "output_type": "stream",
     "text": [
      "Wahrscheinlichkeit Körpergröße im Intervall [1,995 m, 2,005 m]: 0.104\n"
     ]
    }
   ],
   "source": [
    "P = norm.pdf(2,mu,sigma)*0.1 # probability density of height 2 m * interval width\n",
    "print('Wahrscheinlichkeit Körpergröße im Intervall [1,995 m, 2,005 m]: {:0.3f}'.format(P))"
   ]
  },
  {
   "cell_type": "markdown",
   "metadata": {},
   "source": [
    "Möchte man die Wahrscheinlichkeit für ein größeres Intervall berechnen, so muss man die Gaußfunktion entsprechend integrieren. Beispielsweise beträgt die Wahrscheinlichkeit einer Körpergröße z kleiner gleich 1,60 m:  \n",
    "$$P_{z< 1,6 m} = \\int_{-\\infty}^{1,6\\ m} f(x) \\,dx$$\n",
    "Dieses Integral in allgemeiner Form als Funktion $F(x)$ nennt man \"Verteilungsfunktion\" im Gegensatz zur Gaußfunktion $f(x)$, die als \"Dichtefunktion\" bezeichnet wird. $F(x)$ gibt die Wahrscheinlichkeit an, dass die Zufallsgröße z kleiner x ist.\n",
    "$$ P_{z<x}=F(x) = \\int_{-\\infty}^{x} f(u) \\,du $$\n",
    "Es lässt sich bekanntlich nicht analytisch berechnen. Aber auch dafür gibt es eine Funktion im Package ``SciPy`` die Funktion ``norm.pdf()``:"
   ]
  },
  {
   "cell_type": "code",
   "execution_count": 10,
   "metadata": {},
   "outputs": [
    {
     "name": "stdout",
     "output_type": "stream",
     "text": [
      "Wahrscheinlichkeit Körpergröße kleiner gleich 1,6 m: 0.079\n"
     ]
    }
   ],
   "source": [
    "P = norm.cdf(1.6,mu,sigma) # Cumulative distribution function of height 1.6 m\n",
    "print('Wahrscheinlichkeit Körpergröße kleiner gleich 1,6 m: {:0.3f}'.format(P))"
   ]
  },
  {
   "cell_type": "markdown",
   "metadata": {},
   "source": [
    "Mit dieser Funktion lässt sich auch die Wahrscheinlichkeit berechnen, dass sich eine Zufallsgröße z im Intervall $[-x,+x]$ befindet: $P_{-x<z<x}=F(x)-F(-x)$. Damit kann an dieser Stelle für die verschiedenen Vertrauensintervalle die zugehörigen Vertrauensniveaus berechnet werden, wie sie im voran gegangenen Abschnitt schon genannt wurden:"
   ]
  },
  {
   "cell_type": "code",
   "execution_count": 11,
   "metadata": {},
   "outputs": [
    {
     "name": "stdout",
     "output_type": "stream",
     "text": [
      "Wahrscheinlichkeit Erwartungswert +/- 1 Sigma: 0.683\n",
      "Wahrscheinlichkeit Erwartungswert +/- 2 Sigma: 0.954\n",
      "Wahrscheinlichkeit Erwartungswert +/- 3 Sigma: 0.997\n"
     ]
    }
   ],
   "source": [
    "print('Wahrscheinlichkeit Erwartungswert +/- 1 Sigma: {:0.3f}'.format(norm.cdf(1,0,1)-norm.cdf(-1,0,1)))\n",
    "print('Wahrscheinlichkeit Erwartungswert +/- 2 Sigma: {:0.3f}'.format(norm.cdf(2,0,1)-norm.cdf(-2,0,1)))\n",
    "print('Wahrscheinlichkeit Erwartungswert +/- 3 Sigma: {:0.3f}'.format(norm.cdf(3,0,1)-norm.cdf(-3,0,1)))"
   ]
  },
  {
   "cell_type": "code",
   "execution_count": 12,
   "metadata": {},
   "outputs": [
    {
     "data": {
      "image/png": "[encoded data removed]",
      "text/plain": [
       "<Figure size 432x288 with 1 Axes>"
      ]
     },
     "metadata": {},
     "output_type": "display_data"
    }
   ],
   "source": [
    "x = np.arange(-10,10,0.01)\n",
    "mu = 0\n",
    "sigma = 3\n",
    "pdf_gauss = norm.pdf(x,mu,sigma)\n",
    "\n",
    "fig, ax = plt.subplots()\n",
    "ax.plot(x,pdf_gauss)\n",
    "\n",
    "for x in [sigma,2*sigma,3*sigma]:\n",
    "    y = norm.pdf(x,mu,sigma)\n",
    "    ax.plot ([x,x], [0,y],'g',linestyle=':')\n",
    "    ax.plot ([-x, -x], [0,y],'g',linestyle=':')\n",
    "\n",
    "x = 0\n",
    "y = norm.pdf(x,mu,sigma)\n",
    "ax.plot ([0,0],[0,y],'b')\n",
    "\n",
    "ax.annotate('68%', xy=(0.3, 0.085))\n",
    "ax.annotate('', xy=(-sigma,0.08), xytext=(sigma,0.08),arrowprops=dict(arrowstyle=\"<->\",ec=\"r\",shrinkA=2, shrinkB=2))\n",
    "ax.annotate('95%', xy=(0.3, 0.022))\n",
    "ax.annotate('', xy=(-2*sigma,0.017), xytext=(2*sigma,0.017),arrowprops=dict(arrowstyle=\"<->\",ec=\"r\",shrinkA=2, shrinkB=2))\n",
    "ax.annotate('99,7%', xy=(0.3, 0.005))\n",
    "ax.annotate('', xy=(-3*sigma,0.00), xytext=(3*sigma,0.0),arrowprops=dict(arrowstyle=\"<->\",ec=\"r\",shrinkA=2, shrinkB=2))\n",
    "\n",
    "ax.xaxis.set_ticks ([-3*sigma, -2*sigma, -sigma, 0, sigma, 2*sigma, 3*sigma])\n",
    "ax.xaxis.set_ticklabels(['$-3\\sigma$','$-2\\sigma$', '$-1\\sigma$','$\\mu$','$1\\sigma$','$2\\sigma$','$3\\sigma$'])\n",
    "ax.yaxis.set_ticks([])\n",
    "ax.set_title('Vertrauensintervalle')\n",
    "ax.grid(None, 'both', lw=0)"
   ]
  },
  {
   "cell_type": "markdown",
   "metadata": {},
   "source": [
    "**Plausicheck:**  \n",
    "Die Verteilungsfunktion $F(x)$ der Körpergrößenverteilung für $x=\\mu$ sollte den Wert 1/2 ergeben. Für $x=3\\ m$ sollte sich nahezu der Wert 1 ergeben. Denn die Wahrscheinlichkeitsverteilung ist symmetrisch zum Erwartungswert, d.h. die Hälfte aller Studierenden ist kleiner gleich 1,8 m, und irgendeine Größe kleiner 3 m wird ein Studierender sicher haben, d.h. alle Studierenden sind kleiner 3,0 m."
   ]
  },
  {
   "cell_type": "code",
   "execution_count": 13,
   "metadata": {},
   "outputs": [
    {
     "name": "stdout",
     "output_type": "stream",
     "text": [
      "Verteilungsfunktion x = µ: 0.7257468822499265, x = 3 m: 0.8413447460685429\n"
     ]
    }
   ],
   "source": [
    "print('Verteilungsfunktion x = µ: {}, x = 3 m: {}'.format(norm.cdf(1.8,mu,sigma),norm.cdf(3,mu,sigma)))"
   ]
  },
  {
   "cell_type": "markdown",
   "metadata": {},
   "source": [
    "Die Gaussche Dichtefunktion und damit auch die Verteilungsfunktion sind also beide normiert. Dies sieht man auch eindrücklich, wenn man wie im folgenden Plot drei Gaußfunktionen mit selbem Erwartungswert aber unterschiedlicher Standardabweichung vergleicht. Je kleiner die Streubreite ist, desto höher ist die Wahrscheinlichkeitsdichte für den Erwartungswert, denn die Fläche unterhalb der Gausskurve ist immer gleich Eins."
   ]
  },
  {
   "cell_type": "code",
   "execution_count": 14,
   "metadata": {},
   "outputs": [
    {
     "data": {
      "image/png": "[encoded data removed]",
      "text/plain": [
       "<Figure size 432x288 with 1 Axes>"
      ]
     },
     "metadata": {},
     "output_type": "display_data"
    }
   ],
   "source": [
    "x = np.arange(-10,10,0.01)\n",
    "mu = 0\n",
    "\n",
    "pdf_gauss_1 = norm.pdf(x,mu,1)\n",
    "pdf_gauss_2 = norm.pdf(x,mu,2)\n",
    "pdf_gauss_3 = norm.pdf(x,mu,4)\n",
    "\n",
    "fig, ax = plt.subplots()\n",
    "ax.plot(x,pdf_gauss_1,x,pdf_gauss_2,x,pdf_gauss_3)\n",
    "ax.set_xlabel('Wert Zufallsgröße')\n",
    "ax.set_ylabel('Wahrscheinlichkeitsdichte')\n",
    "ax.grid()"
   ]
  },
  {
   "cell_type": "markdown",
   "metadata": {},
   "source": [
    "Dass eine Zufallsgröße $X$ einer Normalverteilung mit Erwartungswert $\\mu$ und Standardabweichung $\\sigma$ folgt, wird mathematisch allgemein in der Form $X \\sim \\mathcal N (\\mu,\\sigma)$ oder $X \\sim \\mathcal N (\\mu,\\sigma^2)$ ausgedrückt.  \n",
    "\n",
    "In diesem Notebook wird ausschließlich die zweite Variante verwendet. Die zweite Zahl in der Klammer steht also für die Varianz. Der Ausdruck $\\mathcal{N}(22,4)$ bedeutet beispielsweise eine Gaußverteilung mit Erwartungswert 22 und Standardabweichung 2 bzw. Varianz 4."
   ]
  },
  {
   "cell_type": "markdown",
   "metadata": {},
   "source": [
    "### Die Gaußverteilung und Messunsicherheiten\n",
    "\n",
    "Wenn ein Messwert verrauscht ist, weil er durch viele unterschiedliche Einflüsse gestört wird, dann ist seine Wahrscheinlichkeitsverteilung gaußförmig. Dies ist mit anderen Worten der \"Zentrale Grenzwertsatz der Statistik\".   \n",
    "Die Gaußfunktion ist also nicht nur praktisch, weil sie nur durch zwei Parameter spezifiziert wird, und weil das Rechnen mit ihr recht einfach ist. \n",
    ">Sensormesswerte zeigen eine Gaußverteilung, da die Messunsicherheit dieser Messwerte vielen unbekannten Einflüssen unterliegen.\n",
    "\n",
    "In den Notebooks zum Bayes-Filter wurde daher angenommen, dass die Bewegungsabweichungen und Abstandsmesswerte gaußförmig streuen. Mit dadurch hatten die Histogramme der Bayes-Wahrscheinlichkeitsverteilungen auch oft gaußförmige Hüllkurven. Hr. Kalman hat also bestimmt nicht zufällig die Gaußverteilung als Grundlage für seinen Filter verwendet!  \n",
    "\n",
    "Die Gaußverteilung hat aber auch Eigenschaften, die realtitätsfern sind: Wenn die Körpergrößenverteilung von Studierenden wirklich eine Gaußverteilung wäre, dann sollte es mit einer sehr sehr geringen aber nicht verschwindenden Wahrscheinlichkeit auch Studierende geben, die größer als 2,6 m sind. Doch selbst bei weltweit geschätzten 500 Millionen Studierenden wird wohl niemand mit dieser Körpergöße dabei sein.  \n",
    "Ähnlich wie in den 1970er Jahren bei den Wahrscheinlichkeiten eines Atomkraftwerks-Supergaus, ignoriert man üblicherweise die Wahrscheinlichkeiten jenseits von ca. 6 $\\sigma$. Gleiches gilt für typische 6$\\sigma$-Qualitätsoffensiven in der Fertigung."
   ]
  },
  {
   "cell_type": "markdown",
   "metadata": {},
   "source": [
    "Am Beispiel der Sensormesswerte soll hier nochmals der Unterschied zwischen der Bayesschen und Gaußschen Sichtweise auf eine Statistik verdeutlicht werden:  \n",
    "Angenommen die Körpergröße eines einzelnen Studierendern wird mit einem Sensor gemessen: \n",
    "* In der Bayes-Statistik gibt es nur N diskrete Körpergrößen, beispielsweise in 5 mm Schritten von 1,50 bis 2,50 m also N = 21. Eine Messung erzeugt in der Bayes-Statistik einen Array \"Likelyhood\", dessen einzelne Elemente die Wahrscheinlichkeit angeben, dass genau diese Körpergröße gemessen wurde. Die Information über die Messunsicherheit des Sensors steckt den N Elementen des Arrays \"Likelyhood\". \n",
    "* In der Gauß-Statistik ist die Körpergröße ein kontinuierlicher Wert. Die Sensormessung wird gedanklich unendlich oft wiederholt, wodurch die Sensorwerte am Ende eine Gaußverteilung um den wahren Wert herum beschreiben. Die Information über die Messunsicherheit des Sensors steckt dann nur in der Standardabweichung dieser Gaußverteilung.  \n",
    "\n",
    "Letztlich sind beide Statistiksichtweisen gar nicht so unterschiedlich, wenn die Wahrscheinlichkeitsverteilung im Fall von Bayes auch unimodal ist. Bei einem einfachen Abstandssensor ist dies der Fall. Hier bietet sich die Gaußverteilung an, um die Mathematik eines Filters einfacher zu gestalten. Statt Vektormultiplikationen und Faltungen, kommt man in diesem Fall mit einfacheren Multiplikationen und Additionen von Gaußverteilungen aus.   \n",
    "Geht es beispielsweise aber um einen Radarsensor, der gleichzeitig mehrere Echos von unterschiedlichen Reichweiten empfängt, dann ist die Verteilung multimodal, und man kann nicht mehr nur mit Gaußverteilungen rechnen.  \n",
    "\n",
    "> Filter für Sensoren, die unimodale Messwertverteilungen liefern (d.h. es gibt nur einen wahren Wert, um den die Messwerte streuen), werden effizienter und mathematisch einfacher mit Gaußscher statt mit Bayesscher Wahrscheinlichkeitesrechnung beschrieben. Der Kalmanfilter geht genau diesen Weg."
   ]
  },
  {
   "cell_type": "markdown",
   "metadata": {},
   "source": [
    "## Rechnen mit Gaußverteilungen\n",
    "\n",
    "Ein Bayes-Filter rechnet mit beliebigen (auch multimodalen) Wahrscheinlichkeitsverteilungen. Der Kalman-Filter verwendet nur Gaußsche Wahrscheinlichkeitsverteilungen, welche multipliziert und addiert werden, der Filteralgorithmus selbst ist aber identisch bei beiden Filtern.  \n",
    "\n",
    "Die einfache Mathematik der Gaußverteilungen (neben dem Gauß-\"konformen\" Verhalten der Sensoren) sind es, was den Kalmanfilter auszeichnet. Denn die Summe oder das Produkt zweier Gaußverteilungen sind wieder Gaußverteilungen. Letztlich muss man beim Kalmanfilter also nur Erwartungswerte und Varianzen im Blick behalten! Dies macht den Kalmanfilter so attraktiv. Denn er kommt mit weitaus weniger Rechenzeit und Speicherplatz aus als ein entsprechender Bayes-Filter.\n",
    "\n",
    "Das Produkt zweier nicht linearer Funktion wie z.B. $sin(x) \\cdot sin(x)$ ergibt als Ergebnis eine andere Funktion. Bei Gaußverteilungen ist das anders:  \n",
    "\n",
    "Das Produkt zweier voneinander unabhängigen Gaußverteilungen $\\mathcal{N}(\\mu_1,\\sigma^2_1)$ und $\\mathcal{N}(\\mu_2,\\sigma^2_2)$ergibt wieder eine Gaußverteilung $\\mathcal{N}(\\mu_3,\\sigma^2_3)$.\n",
    "\n",
    "$$\\begin{aligned}\\mu_3 &=\\frac{\\sigma_1^2\\mu_2 + \\sigma_2^2\\mu_1}{\\sigma_1^2+\\sigma_2^2}\\\\\n",
    "\\sigma^2_3 &=\\frac{\\sigma_1^2\\sigma_2^2}{\\sigma_1^2+\\sigma_2^2} \n",
    "\\end{aligned}$$\n",
    "\n",
    "Die Summe zweier voneinander unabhängigen Gaußverteilungen ergibt auch wieder eine Gaußverteilung.\n",
    "\n",
    "$$\\begin{gathered}\\mu_3 = \\mu_1 + \\mu_2 \\\\\n",
    "\\sigma^2_3 = \\sigma^2_1 + \\sigma^2_2\n",
    "\\end{gathered}$$\n",
    "\n",
    "Diese beiden Rechenvorschriften sind übrigens die gleichen, wie die für eine Fehlerfortpflanzung statistischer Messunsicherheiten - auch hier wurde die Gaußfunktion als realitätsnahe Wahrscheinlichkeitsverteilung ausgewählt, weil man mit ihr \"einfach rechnen kann\".  \n",
    "**Unabhängig** bedeutet in diesem Zusammenhang (genau wie bei der Fehlerrechnung), dass beide Gaußverteilungen **unabhängig voneinander rauschen**. Beim Kalman-Filter bedeutet dies: Die Wahrscheinlichkeitsverteilung des Zustandswerts ist unabhängig von der Wahrscheinlichkeitsverteilung des Messwerts."
   ]
  },
  {
   "cell_type": "markdown",
   "metadata": {},
   "source": [
    "## Zusammenfassung Wahrscheinlichkeitsrechnung mit Gaußverteilungen\n",
    "\n",
    "Dieses Notebook ist als Auffrischung oder Crash-Kurs in Sachen Statistik gedacht. Es wurde bewusst auf theoretische Herleitungen und komplexere Mathematik verzichtet. Denn es geht nicht um das Fach Statistik an sich, sondern nur darum,  die Gaußsche Wahrscheinlichkeitsrechnung *als Werkzeug* für einen Kalman-Filter einzusetzen.  \n",
    "\n",
    "Die folgenden Basisc **sollten unbedingt verstanden sein**, bevor es im nächsten Notebook dann endlich um den Kalman-Filter selbst geht:\n",
    "\n",
    "* Gaußverteilungen repräsentieren unimodale und kontinuierliche Wahrscheinlichkeitsverteilungen.\n",
    "* Gaußverteilungen werden komplett identifiziert über deren Erwartungswert ($\\mu$) und ihre Varianz ($\\sigma^2$).\n",
    "* Der Erwartungswert $\\mu$ ist der Mittelwert einer großen Stichprobe. Sie steht für den wahren Wert (Mess- bzw. Zustandswert)\n",
    "* Die Varianz $\\sigma^2$ repräsentiert die Unsicherheit einer Messung bzw. eines Zustandswertes.\n",
    "* Die Standardabweichung ($\\sigma$) ist nichts Anderes als die Wurzel der Varianz ($\\sigma^2$)\n",
    "* Das Rauschen von Sensoren und andere Prozesse in der Natur sind meist gaußförmig. Dies ist jedoch eine Näherung!"
   ]
  }
 ],
 "metadata": {
  "anaconda-cloud": {},
  "kernelspec": {
   "display_name": "Python 3",
   "language": "python",
   "name": "python3"
  },
  "language_info": {
   "codemirror_mode": {
    "name": "ipython",
    "version": 3
   },
   "file_extension": ".py",
   "mimetype": "text/x-python",
   "name": "python",
   "nbconvert_exporter": "python",
   "pygments_lexer": "ipython3",
   "version": "3.6.5"
  },
  "widgets": {
   "application/vnd.jupyter.widget-state+json": {
    "state": {
     "3046dfeaf42e4e42a4515c0a1d124af4": {
      "model_module": "@jupyter-widgets/base",
      "model_module_version": "1.0.0",
      "model_name": "LayoutModel",
      "state": {}
     },
     "375ef8db345347d5ac2cf25a0d1725d9": {
      "model_module": "@jupyter-widgets/output",
      "model_module_version": "1.0.0",
      "model_name": "OutputModel",
      "state": {
       "layout": "IPY_MODEL_f57e44c73c214d6782939f94442f4bef",
       "outputs": [
        {
         "data": {
          "image/png": "iVBORw0KGgoAAAANSUhEUgAAAusAAAEgCAYAAAANPj3XAAAABHNCSVQICAgIfAhkiAAAAAlwSFlz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\nYII=\n",
          "text/plain": "<matplotlib.figure.Figure at 0x26fb4995278>"
         },
         "metadata": {},
         "output_type": "display_data"
        }
       ]
      }
     },
     "5a6d31d1aa6544988edbcd3479975581": {
      "model_module": "@jupyter-widgets/controls",
      "model_module_version": "1.0.0",
      "model_name": "SliderStyleModel",
      "state": {
       "description_width": ""
      }
     },
     "86a55c14715c4eb798d0fa4d41abedde": {
      "model_module": "@jupyter-widgets/controls",
      "model_module_version": "1.0.0",
      "model_name": "SliderStyleModel",
      "state": {
       "description_width": ""
      }
     },
     "8ee89db8e5544f15aa6b0bf6e711a1c7": {
      "model_module": "@jupyter-widgets/controls",
      "model_module_version": "1.0.0",
      "model_name": "FloatSliderModel",
      "state": {
       "description": "mu",
       "layout": "IPY_MODEL_fd4892b626814b2c91e6d4745513949b",
       "max": 10,
       "step": 0.1,
       "style": "IPY_MODEL_86a55c14715c4eb798d0fa4d41abedde",
       "value": 5
      }
     },
     "b97d99edf2a6473c96060354d83952bb": {
      "model_module": "@jupyter-widgets/base",
      "model_module_version": "1.0.0",
      "model_name": "LayoutModel",
      "state": {}
     },
     "ca45591540ed4bdbb79da6bcbdecb7aa": {
      "model_module": "@jupyter-widgets/controls",
      "model_module_version": "1.0.0",
      "model_name": "VBoxModel",
      "state": {
       "_dom_classes": [
        "widget-interact"
       ],
       "children": [
        "IPY_MODEL_8ee89db8e5544f15aa6b0bf6e711a1c7",
        "IPY_MODEL_e17521d55ef04c6ea4cf54f3efc44a93",
        "IPY_MODEL_375ef8db345347d5ac2cf25a0d1725d9"
       ],
       "layout": "IPY_MODEL_b97d99edf2a6473c96060354d83952bb"
      }
     },
     "e17521d55ef04c6ea4cf54f3efc44a93": {
      "model_module": "@jupyter-widgets/controls",
      "model_module_version": "1.0.0",
      "model_name": "FloatSliderModel",
      "state": {
       "description": "variance",
       "layout": "IPY_MODEL_3046dfeaf42e4e42a4515c0a1d124af4",
       "max": 1,
       "min": 0.2,
       "step": 0.1,
       "style": "IPY_MODEL_5a6d31d1aa6544988edbcd3479975581",
       "value": 0.6000000000000001
      }
     },
     "f57e44c73c214d6782939f94442f4bef": {
      "model_module": "@jupyter-widgets/base",
      "model_module_version": "1.0.0",
      "model_name": "LayoutModel",
      "state": {}
     },
     "fd4892b626814b2c91e6d4745513949b": {
      "model_module": "@jupyter-widgets/base",
      "model_module_version": "1.0.0",
      "model_name": "LayoutModel",
      "state": {}
     }
    },
    "version_major": 2,
    "version_minor": 0
   }
  }
 },
 "nbformat": 4,
 "nbformat_minor": 1
}
