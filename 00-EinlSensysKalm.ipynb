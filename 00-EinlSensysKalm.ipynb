{
 "cells": [
  {
   "cell_type": "markdown",
   "metadata": {},
   "source": [
    "# Der Kalmannfilter für die Sensorsignalverarbeitung\n",
    "22.2.2019, S. Mack\n",
    "\n",
    "## Vorbemerkungen\n",
    "Dieses Jupyter-Notebook zum Kalmanfilter basiert auf den Notebooks von R. Labbe, welche auf GitHub unter [rlabbe/Kalman-and-Bayesian-Filters-in-Python](https://www.github.com/rlabbe/Kalman-and-Bayesian-Filters-in-Python) zugänglich sind.  \n",
    "Die Inhalte wurden leicht geändert, und als Anwendungsbeispiel wird hier die Abstandssensorik am Roboterfahrzeug des Projekts \"Sensor- und Mikrosysteme\" im Masterstudium Mechatronik an der Hochschule Reutlingen verwendet:  \n",
    "\n",
    "<img src=\"RoboFahrzeugParallel.png\" width=\"400\">\n",
    "  \n",
    "Das Fahrzeug soll wie in der Zeichnung oben dargestellt in einem konstanten Abstand an der Wand entlang fahren. Der Abstand wird z.B. mit einem am Fahrzeug angebrachten Lidarsensor gemessen und dient als Eingangssignal für eine Regelung.  \n",
    "Der Abstandsmesswert besitzt jedoch eine erhebliche statistische Streuung und ist mit häufigen Ausreißern behaftet, welche durch EMV-Probleme oder Fremdlicht verursacht sind. Für die zyklisch anfallenden Messdaten wird also ein Filter benötigt, der die Messwertstreuung reduziert und insbesondedere die \"Ausreißer\" entsprechend wenig gewichtet.  \n",
    "Zudem verfügt die Wand über Nischen, denen das Roboterfahrzeug folgen soll. Daher kommt z.B. eine gleitende Mittelwertbildung nicht in Frage. Denn ein tatsächlicher Sprung der Abstandsmesswerte muss unmittelbar erkannt werden.  \n",
    "\n",
    "Dies ist das optimale Einsatzgebiet eines **Kalmanfilters**. Der Kalmanfilter ist eine Spezialform des **g-h-Filters**. Daher macht es Sinn, sich zuerst mit diesem Filterkonzept zu befassen. Nachfolgend wird daher Schritt für Schritt ein g-h-Filter entwickelt. Im folgenden Jupyter-Notebook wird dieses Filter mittels simulierter Abstandsmessdaten des Roboterfahrzeugs getestet.  \n",
    "Darauf folgt ein Jupyter-Notebook zu Bayes-Filtern, ebenfalls eine Spezialform des **g-h-Filters**. Nach einem weiteren Notebook zu den Grundlagen der Statistik folgt schließlich das eigentliche Haupt-Notebook zum eindimensionalen Kalmanfilter.  \n",
    "\n",
    "### \"Das\" oder \"der\" Filter?\n",
    "In der Elektrotechnik verwendet man meistens *das* Filter und der Optik *der* Filter. Allgemeinspachlich wird überwiegend die männliche Form des Worts Filter verwendet. Dies wird der Einfachheit halber auch hier so gemacht, denn es geht um das Verstehen technischer Sachverhalte und nicht um Formalitäten.  \n",
    "Zum Glück hat sich der Duden auch dieser Sichtweise angenommen, nur in den Schulen sitzen allzu oft noch pedantische Germanisten, die besser Sprachwissenschaftler im Elfenbeinturm geworden wären ;-) \n",
    "\n",
    "## Übersicht der einzelen Jupyter-Notebooks\n",
    "\n",
    "[**Der g-h-Filter am Beispiel eines Abstandssensors**](https://nbviewer.jupyter.org/github/StefanMack/KalmanSensys/blob/master/01-GHFilterBasics.ipynb)  \n",
    "Hier werden die Grundlagen behandelt, wie mit Hilfe eines physikalischen Modells ein Vorhersagewert erstellt wird, welche mit einer Messung fusioniert wird. Daraus entsteht ein korrigierter Messwert mit geringerer Messunsicherheit.\n",
    "\n",
    "[**Beispiele zum g-h-Filter**](https://nbviewer.jupyter.org/github/StefanMack/KalmanSensys/blob/master/02-GHFilterBeispiele.ipynb)  \n",
    "Hier werden die im voran gegangenen Notebook erarbeiteten Grundlagen anhand von Beispielen vertieft. Dafür wird das Roboterfahrzeug verwendet, welches mit Hilfe eines verrauschten Abstandssensors parallel zur Wand fahren soll.\n",
    "\n",
    "[**Der Bayes-Filter am Beispiel des Trackings eines Roboterfahrzeugs, Teil 1**](https://nbviewer.jupyter.org/github/StefanMack/KalmanSensys/blob/master/03-BayesFilterTeil1.ipynb)  \n",
    "Tracking eines Roboterfahrzeugs mit einem Bayesfilter, der eine multimodale Wahrscheinlichkeitsverteilung des Fahrzeugs ausgibt. Dazu Einführung in die Bayes-Statistik sowie Klärung der Begrifflichkeiten. Entwicklung der Algorithmen für die Korrektur und die Vorhersage.\n",
    "\n",
    "[**Der Bayes-Filter am Beispiel des Trackings eines Roboterfahrzeugs, Teil 2**](https://nbviewer.jupyter.org/github/StefanMack/KalmanSensys/blob/master/03-BayesFilterTeil2.ipynb)  \n",
    "Der Bayes-Filter als Vorhersage-Korrektur-Algorithmus mit der Anwendung einer Faltung für die Vorhersage und des Bayes-Theorems für die Korrektur. Simulationen einer Fahrzeugbewegung und das Tracken derselben.\n",
    "\n",
    "[**Grundlagen der Statistik**](https://nbviewer.jupyter.org/github/StefanMack/KalmanSensys/blob/master/04-Gaussians.ipynb)  \n",
    "Der Kalmanfilter als eine Spezialform des g-h-Filters basiert auf der Gaußschen Wahrscheinlichkeitstheorie. Diese Theorie muss zuerst verstanden werden.\n",
    "\n",
    "[**Der eindimensionale Kalmanfilter**](https://nbviewer.jupyter.org/github/StefanMack/KalmanSensys/blob/master/04-One-Dimensional-Kalman-Filters.ipynb)  \n",
    "Das \"Grande Finale\": Ein Kalmanfilter bei der Arbeit. "
   ]
  }
 ],
 "metadata": {
  "kernelspec": {
   "display_name": "Python 3",
   "language": "python",
   "name": "python3"
  },
  "language_info": {
   "codemirror_mode": {
    "name": "ipython",
    "version": 3
   },
   "file_extension": ".py",
   "mimetype": "text/x-python",
   "name": "python",
   "nbconvert_exporter": "python",
   "pygments_lexer": "ipython3",
   "version": "3.6.5"
  }
 },
 "nbformat": 4,
 "nbformat_minor": 1
}
